{
 "nbformat": 4,
 "nbformat_minor": 2,
 "metadata": {
  "language_info": {
   "name": "python",
   "codemirror_mode": {
    "name": "ipython",
    "version": 3
   },
   "version": "3.7.4-final"
  },
  "orig_nbformat": 2,
  "file_extension": ".py",
  "mimetype": "text/x-python",
  "name": "python",
  "npconvert_exporter": "python",
  "pygments_lexer": "ipython3",
  "version": 3,
  "kernelspec": {
   "name": "python37432bit071573435c334bbda4e7d57a8b43dfc8",
   "display_name": "Python 3.7.4 32-bit"
  }
 },
 "cells": [
  {
   "cell_type": "markdown",
   "metadata": {},
   "source": [
    "### Описание задания:\n",
    "1. Исходные данные — статистика выступлений игроков.(https://github.com/netology-code/ds3-spring-2018/blob/master/0.%20Preparatory%20week/0.2%20Python%20for%20DS/Homework/teams_stats.csv)\n",
    "\n",
    "Вам необходимо посчитать количество уникальных названий команд (столбец 'Tm') в разбивке по годам. Для подсчета уникальных элементов можно воспользоваться методом nunique()."
   ]
  },
  {
   "cell_type": "code",
   "execution_count": 12,
   "metadata": {},
   "outputs": [
    {
     "data": {
      "text/html": "<div>\n<style scoped>\n    .dataframe tbody tr th:only-of-type {\n        vertical-align: middle;\n    }\n\n    .dataframe tbody tr th {\n        vertical-align: top;\n    }\n\n    .dataframe thead th {\n        text-align: right;\n    }\n</style>\n<table border=\"1\" class=\"dataframe\">\n  <thead>\n    <tr style=\"text-align: right;\">\n      <th></th>\n      <th>Year</th>\n      <th>1950.0</th>\n      <th>1951.0</th>\n      <th>1952.0</th>\n      <th>1953.0</th>\n      <th>1954.0</th>\n      <th>1955.0</th>\n      <th>1956.0</th>\n      <th>1957.0</th>\n      <th>1958.0</th>\n      <th>1959.0</th>\n      <th>...</th>\n      <th>2008.0</th>\n      <th>2009.0</th>\n      <th>2010.0</th>\n      <th>2011.0</th>\n      <th>2012.0</th>\n      <th>2013.0</th>\n      <th>2014.0</th>\n      <th>2015.0</th>\n      <th>2016.0</th>\n      <th>2017.0</th>\n    </tr>\n    <tr>\n      <th>Player</th>\n      <th>Pos</th>\n      <th></th>\n      <th></th>\n      <th></th>\n      <th></th>\n      <th></th>\n      <th></th>\n      <th></th>\n      <th></th>\n      <th></th>\n      <th></th>\n      <th></th>\n      <th></th>\n      <th></th>\n      <th></th>\n      <th></th>\n      <th></th>\n      <th></th>\n      <th></th>\n      <th></th>\n      <th></th>\n      <th></th>\n    </tr>\n  </thead>\n  <tbody>\n    <tr>\n      <th rowspan=\"2\" valign=\"top\">A.C. Green</th>\n      <th>PF</th>\n      <td>NaN</td>\n      <td>NaN</td>\n      <td>NaN</td>\n      <td>NaN</td>\n      <td>NaN</td>\n      <td>NaN</td>\n      <td>NaN</td>\n      <td>NaN</td>\n      <td>NaN</td>\n      <td>NaN</td>\n      <td>...</td>\n      <td>NaN</td>\n      <td>NaN</td>\n      <td>NaN</td>\n      <td>NaN</td>\n      <td>NaN</td>\n      <td>NaN</td>\n      <td>NaN</td>\n      <td>NaN</td>\n      <td>NaN</td>\n      <td>NaN</td>\n    </tr>\n    <tr>\n      <th>SF</th>\n      <td>NaN</td>\n      <td>NaN</td>\n      <td>NaN</td>\n      <td>NaN</td>\n      <td>NaN</td>\n      <td>NaN</td>\n      <td>NaN</td>\n      <td>NaN</td>\n      <td>NaN</td>\n      <td>NaN</td>\n      <td>...</td>\n      <td>NaN</td>\n      <td>NaN</td>\n      <td>NaN</td>\n      <td>NaN</td>\n      <td>NaN</td>\n      <td>NaN</td>\n      <td>NaN</td>\n      <td>NaN</td>\n      <td>NaN</td>\n      <td>NaN</td>\n    </tr>\n    <tr>\n      <th>A.J. Bramlett</th>\n      <th>C</th>\n      <td>NaN</td>\n      <td>NaN</td>\n      <td>NaN</td>\n      <td>NaN</td>\n      <td>NaN</td>\n      <td>NaN</td>\n      <td>NaN</td>\n      <td>NaN</td>\n      <td>NaN</td>\n      <td>NaN</td>\n      <td>...</td>\n      <td>NaN</td>\n      <td>NaN</td>\n      <td>NaN</td>\n      <td>NaN</td>\n      <td>NaN</td>\n      <td>NaN</td>\n      <td>NaN</td>\n      <td>NaN</td>\n      <td>NaN</td>\n      <td>NaN</td>\n    </tr>\n    <tr>\n      <th>A.J. English</th>\n      <th>SG</th>\n      <td>NaN</td>\n      <td>NaN</td>\n      <td>NaN</td>\n      <td>NaN</td>\n      <td>NaN</td>\n      <td>NaN</td>\n      <td>NaN</td>\n      <td>NaN</td>\n      <td>NaN</td>\n      <td>NaN</td>\n      <td>...</td>\n      <td>NaN</td>\n      <td>NaN</td>\n      <td>NaN</td>\n      <td>NaN</td>\n      <td>NaN</td>\n      <td>NaN</td>\n      <td>NaN</td>\n      <td>NaN</td>\n      <td>NaN</td>\n      <td>NaN</td>\n    </tr>\n    <tr>\n      <th>A.J. Guyton</th>\n      <th>PG</th>\n      <td>NaN</td>\n      <td>NaN</td>\n      <td>NaN</td>\n      <td>NaN</td>\n      <td>NaN</td>\n      <td>NaN</td>\n      <td>NaN</td>\n      <td>NaN</td>\n      <td>NaN</td>\n      <td>NaN</td>\n      <td>...</td>\n      <td>NaN</td>\n      <td>NaN</td>\n      <td>NaN</td>\n      <td>NaN</td>\n      <td>NaN</td>\n      <td>NaN</td>\n      <td>NaN</td>\n      <td>NaN</td>\n      <td>NaN</td>\n      <td>NaN</td>\n    </tr>\n    <tr>\n      <th>...</th>\n      <th>...</th>\n      <td>...</td>\n      <td>...</td>\n      <td>...</td>\n      <td>...</td>\n      <td>...</td>\n      <td>...</td>\n      <td>...</td>\n      <td>...</td>\n      <td>...</td>\n      <td>...</td>\n      <td>...</td>\n      <td>...</td>\n      <td>...</td>\n      <td>...</td>\n      <td>...</td>\n      <td>...</td>\n      <td>...</td>\n      <td>...</td>\n      <td>...</td>\n      <td>...</td>\n      <td>...</td>\n    </tr>\n    <tr>\n      <th>Zendon Hamilton</th>\n      <th>PF</th>\n      <td>NaN</td>\n      <td>NaN</td>\n      <td>NaN</td>\n      <td>NaN</td>\n      <td>NaN</td>\n      <td>NaN</td>\n      <td>NaN</td>\n      <td>NaN</td>\n      <td>NaN</td>\n      <td>NaN</td>\n      <td>...</td>\n      <td>NaN</td>\n      <td>NaN</td>\n      <td>NaN</td>\n      <td>NaN</td>\n      <td>NaN</td>\n      <td>NaN</td>\n      <td>NaN</td>\n      <td>NaN</td>\n      <td>NaN</td>\n      <td>NaN</td>\n    </tr>\n    <tr>\n      <th>Zoran Dragic</th>\n      <th>SG</th>\n      <td>NaN</td>\n      <td>NaN</td>\n      <td>NaN</td>\n      <td>NaN</td>\n      <td>NaN</td>\n      <td>NaN</td>\n      <td>NaN</td>\n      <td>NaN</td>\n      <td>NaN</td>\n      <td>NaN</td>\n      <td>...</td>\n      <td>NaN</td>\n      <td>NaN</td>\n      <td>NaN</td>\n      <td>NaN</td>\n      <td>NaN</td>\n      <td>NaN</td>\n      <td>NaN</td>\n      <td>3.0</td>\n      <td>NaN</td>\n      <td>NaN</td>\n    </tr>\n    <tr>\n      <th rowspan=\"2\" valign=\"top\">Zoran Planinic</th>\n      <th>PG</th>\n      <td>NaN</td>\n      <td>NaN</td>\n      <td>NaN</td>\n      <td>NaN</td>\n      <td>NaN</td>\n      <td>NaN</td>\n      <td>NaN</td>\n      <td>NaN</td>\n      <td>NaN</td>\n      <td>NaN</td>\n      <td>...</td>\n      <td>NaN</td>\n      <td>NaN</td>\n      <td>NaN</td>\n      <td>NaN</td>\n      <td>NaN</td>\n      <td>NaN</td>\n      <td>NaN</td>\n      <td>NaN</td>\n      <td>NaN</td>\n      <td>NaN</td>\n    </tr>\n    <tr>\n      <th>SG</th>\n      <td>NaN</td>\n      <td>NaN</td>\n      <td>NaN</td>\n      <td>NaN</td>\n      <td>NaN</td>\n      <td>NaN</td>\n      <td>NaN</td>\n      <td>NaN</td>\n      <td>NaN</td>\n      <td>NaN</td>\n      <td>...</td>\n      <td>NaN</td>\n      <td>NaN</td>\n      <td>NaN</td>\n      <td>NaN</td>\n      <td>NaN</td>\n      <td>NaN</td>\n      <td>NaN</td>\n      <td>NaN</td>\n      <td>NaN</td>\n      <td>NaN</td>\n    </tr>\n    <tr>\n      <th>Zydrunas Ilgauskas</th>\n      <th>C</th>\n      <td>NaN</td>\n      <td>NaN</td>\n      <td>NaN</td>\n      <td>NaN</td>\n      <td>NaN</td>\n      <td>NaN</td>\n      <td>NaN</td>\n      <td>NaN</td>\n      <td>NaN</td>\n      <td>NaN</td>\n      <td>...</td>\n      <td>1.0</td>\n      <td>1.0</td>\n      <td>1.0</td>\n      <td>1.0</td>\n      <td>NaN</td>\n      <td>NaN</td>\n      <td>NaN</td>\n      <td>NaN</td>\n      <td>NaN</td>\n      <td>NaN</td>\n    </tr>\n  </tbody>\n</table>\n<p>5400 rows × 68 columns</p>\n</div>",
      "text/plain": "Year                    1950.0  1951.0  1952.0  1953.0  1954.0  1955.0  \\\nPlayer             Pos                                                   \nA.C. Green         PF      NaN     NaN     NaN     NaN     NaN     NaN   \n                   SF      NaN     NaN     NaN     NaN     NaN     NaN   \nA.J. Bramlett      C       NaN     NaN     NaN     NaN     NaN     NaN   \nA.J. English       SG      NaN     NaN     NaN     NaN     NaN     NaN   \nA.J. Guyton        PG      NaN     NaN     NaN     NaN     NaN     NaN   \n...                        ...     ...     ...     ...     ...     ...   \nZendon Hamilton    PF      NaN     NaN     NaN     NaN     NaN     NaN   \nZoran Dragic       SG      NaN     NaN     NaN     NaN     NaN     NaN   \nZoran Planinic     PG      NaN     NaN     NaN     NaN     NaN     NaN   \n                   SG      NaN     NaN     NaN     NaN     NaN     NaN   \nZydrunas Ilgauskas C       NaN     NaN     NaN     NaN     NaN     NaN   \n\nYear                    1956.0  1957.0  1958.0  1959.0  ...  2008.0  2009.0  \\\nPlayer             Pos                                  ...                   \nA.C. Green         PF      NaN     NaN     NaN     NaN  ...     NaN     NaN   \n                   SF      NaN     NaN     NaN     NaN  ...     NaN     NaN   \nA.J. Bramlett      C       NaN     NaN     NaN     NaN  ...     NaN     NaN   \nA.J. English       SG      NaN     NaN     NaN     NaN  ...     NaN     NaN   \nA.J. Guyton        PG      NaN     NaN     NaN     NaN  ...     NaN     NaN   \n...                        ...     ...     ...     ...  ...     ...     ...   \nZendon Hamilton    PF      NaN     NaN     NaN     NaN  ...     NaN     NaN   \nZoran Dragic       SG      NaN     NaN     NaN     NaN  ...     NaN     NaN   \nZoran Planinic     PG      NaN     NaN     NaN     NaN  ...     NaN     NaN   \n                   SG      NaN     NaN     NaN     NaN  ...     NaN     NaN   \nZydrunas Ilgauskas C       NaN     NaN     NaN     NaN  ...     1.0     1.0   \n\nYear                    2010.0  2011.0  2012.0  2013.0  2014.0  2015.0  \\\nPlayer             Pos                                                   \nA.C. Green         PF      NaN     NaN     NaN     NaN     NaN     NaN   \n                   SF      NaN     NaN     NaN     NaN     NaN     NaN   \nA.J. Bramlett      C       NaN     NaN     NaN     NaN     NaN     NaN   \nA.J. English       SG      NaN     NaN     NaN     NaN     NaN     NaN   \nA.J. Guyton        PG      NaN     NaN     NaN     NaN     NaN     NaN   \n...                        ...     ...     ...     ...     ...     ...   \nZendon Hamilton    PF      NaN     NaN     NaN     NaN     NaN     NaN   \nZoran Dragic       SG      NaN     NaN     NaN     NaN     NaN     3.0   \nZoran Planinic     PG      NaN     NaN     NaN     NaN     NaN     NaN   \n                   SG      NaN     NaN     NaN     NaN     NaN     NaN   \nZydrunas Ilgauskas C       1.0     1.0     NaN     NaN     NaN     NaN   \n\nYear                    2016.0  2017.0  \nPlayer             Pos                  \nA.C. Green         PF      NaN     NaN  \n                   SF      NaN     NaN  \nA.J. Bramlett      C       NaN     NaN  \nA.J. English       SG      NaN     NaN  \nA.J. Guyton        PG      NaN     NaN  \n...                        ...     ...  \nZendon Hamilton    PF      NaN     NaN  \nZoran Dragic       SG      NaN     NaN  \nZoran Planinic     PG      NaN     NaN  \n                   SG      NaN     NaN  \nZydrunas Ilgauskas C       NaN     NaN  \n\n[5400 rows x 68 columns]"
     },
     "execution_count": 12,
     "metadata": {},
     "output_type": "execute_result"
    }
   ],
   "source": [
    "import pandas as pd\n",
    "data_team = pd.read_csv( 'teams_stats.csv', delimiter = ',' )\n",
    "pd.pivot_table(data_team,  index = ['Player', 'Pos'], columns = ['Year'], values = 'Tm', aggfunc = lambda x: len(x.unique()))"
   ]
  },
  {
   "cell_type": "markdown",
   "metadata": {},
   "source": [
    "2. Исходные данные — файл со статистикой горных вершин(https://github.com/netology-code/ds3-spring-2018/blob/master/0.%20Preparatory%20week/0.2%20Python%20for%20DS/Homework/Mountains.csv). В столбце Parent Mountain указан хребет, к которому принадлежит гора.\n",
    "\n",
    "Вам необходимо с помощью Pandas посчитать количество упоминаний каждого хребта в столбце Parent Mountain, но только если это количество больше 3."
   ]
  },
  {
   "cell_type": "code",
   "execution_count": null,
   "metadata": {},
   "outputs": [],
   "source": []
  }
 ]
}