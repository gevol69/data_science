{
 "nbformat": 4,
 "nbformat_minor": 2,
 "metadata": {
  "language_info": {
   "name": "python",
   "codemirror_mode": {
    "name": "ipython",
    "version": 3
   },
   "version": "3.7.4-final"
  },
  "orig_nbformat": 2,
  "file_extension": ".py",
  "mimetype": "text/x-python",
  "name": "python",
  "npconvert_exporter": "python",
  "pygments_lexer": "ipython3",
  "version": 3,
  "kernelspec": {
   "name": "python37432bit071573435c334bbda4e7d57a8b43dfc8",
   "display_name": "Python 3.7.4 32-bit"
  }
 },
 "cells": [
  {
   "cell_type": "markdown",
   "metadata": {},
   "source": [
    "Из файла hw_25000.csv возьмите 20 человек ростом от 170 до 180 сантиметров (назовём это выборкой из набора данных №2). \n",
    "Можно ли утверждать, что разница среднего веса людей в исходном файле hw_25000.csv и среднего веса людей во всем наборе данных №2 статистически значима?\n"
   ]
  },
  {
   "cell_type": "code",
   "execution_count": 1,
   "metadata": {},
   "outputs": [],
   "source": [
    "from scipy import stats\n",
    "import pandas as pd\n",
    "import numpy as np\n",
    "import matplotlib.pyplot as plt"
   ]
  },
  {
   "cell_type": "code",
   "execution_count": 3,
   "metadata": {},
   "outputs": [
    {
     "data": {
      "text/html": "<div>\n<style scoped>\n    .dataframe tbody tr th:only-of-type {\n        vertical-align: middle;\n    }\n\n    .dataframe tbody tr th {\n        vertical-align: top;\n    }\n\n    .dataframe thead th {\n        text-align: right;\n    }\n</style>\n<table border=\"1\" class=\"dataframe\">\n  <thead>\n    <tr style=\"text-align: right;\">\n      <th></th>\n      <th>index</th>\n      <th>height_inches</th>\n      <th>weight_pounds</th>\n      <th>height</th>\n    </tr>\n  </thead>\n  <tbody>\n    <tr>\n      <th>0</th>\n      <td>1</td>\n      <td>65.78331</td>\n      <td>112.9925</td>\n      <td>167.089607</td>\n    </tr>\n    <tr>\n      <th>1</th>\n      <td>2</td>\n      <td>71.51521</td>\n      <td>136.4873</td>\n      <td>181.648633</td>\n    </tr>\n    <tr>\n      <th>2</th>\n      <td>3</td>\n      <td>69.39874</td>\n      <td>153.0269</td>\n      <td>176.272800</td>\n    </tr>\n    <tr>\n      <th>3</th>\n      <td>4</td>\n      <td>68.21660</td>\n      <td>142.3354</td>\n      <td>173.270164</td>\n    </tr>\n    <tr>\n      <th>4</th>\n      <td>5</td>\n      <td>67.78781</td>\n      <td>144.2971</td>\n      <td>172.181037</td>\n    </tr>\n    <tr>\n      <th>5</th>\n      <td>6</td>\n      <td>68.69784</td>\n      <td>123.3024</td>\n      <td>174.492514</td>\n    </tr>\n    <tr>\n      <th>6</th>\n      <td>7</td>\n      <td>69.80204</td>\n      <td>141.4947</td>\n      <td>177.297182</td>\n    </tr>\n    <tr>\n      <th>7</th>\n      <td>8</td>\n      <td>70.01472</td>\n      <td>136.4623</td>\n      <td>177.837389</td>\n    </tr>\n    <tr>\n      <th>8</th>\n      <td>9</td>\n      <td>67.90265</td>\n      <td>112.3723</td>\n      <td>172.472731</td>\n    </tr>\n    <tr>\n      <th>9</th>\n      <td>10</td>\n      <td>66.78236</td>\n      <td>120.6672</td>\n      <td>169.627194</td>\n    </tr>\n    <tr>\n      <th>10</th>\n      <td>11</td>\n      <td>66.48769</td>\n      <td>127.4516</td>\n      <td>168.878733</td>\n    </tr>\n    <tr>\n      <th>11</th>\n      <td>12</td>\n      <td>67.62333</td>\n      <td>114.1430</td>\n      <td>171.763258</td>\n    </tr>\n    <tr>\n      <th>12</th>\n      <td>13</td>\n      <td>68.30248</td>\n      <td>125.6107</td>\n      <td>173.488299</td>\n    </tr>\n    <tr>\n      <th>13</th>\n      <td>14</td>\n      <td>67.11656</td>\n      <td>122.4618</td>\n      <td>170.476062</td>\n    </tr>\n    <tr>\n      <th>14</th>\n      <td>15</td>\n      <td>68.27967</td>\n      <td>116.0866</td>\n      <td>173.430362</td>\n    </tr>\n    <tr>\n      <th>15</th>\n      <td>16</td>\n      <td>71.09160</td>\n      <td>139.9975</td>\n      <td>180.572664</td>\n    </tr>\n    <tr>\n      <th>16</th>\n      <td>17</td>\n      <td>66.46100</td>\n      <td>129.5023</td>\n      <td>168.810940</td>\n    </tr>\n    <tr>\n      <th>17</th>\n      <td>18</td>\n      <td>68.64927</td>\n      <td>142.9733</td>\n      <td>174.369146</td>\n    </tr>\n    <tr>\n      <th>18</th>\n      <td>19</td>\n      <td>71.23033</td>\n      <td>137.9025</td>\n      <td>180.925038</td>\n    </tr>\n    <tr>\n      <th>19</th>\n      <td>20</td>\n      <td>67.13118</td>\n      <td>124.0449</td>\n      <td>170.513197</td>\n    </tr>\n  </tbody>\n</table>\n</div>",
      "text/plain": "    index  height_inches  weight_pounds      height\n0       1       65.78331       112.9925  167.089607\n1       2       71.51521       136.4873  181.648633\n2       3       69.39874       153.0269  176.272800\n3       4       68.21660       142.3354  173.270164\n4       5       67.78781       144.2971  172.181037\n5       6       68.69784       123.3024  174.492514\n6       7       69.80204       141.4947  177.297182\n7       8       70.01472       136.4623  177.837389\n8       9       67.90265       112.3723  172.472731\n9      10       66.78236       120.6672  169.627194\n10     11       66.48769       127.4516  168.878733\n11     12       67.62333       114.1430  171.763258\n12     13       68.30248       125.6107  173.488299\n13     14       67.11656       122.4618  170.476062\n14     15       68.27967       116.0866  173.430362\n15     16       71.09160       139.9975  180.572664\n16     17       66.46100       129.5023  168.810940\n17     18       68.64927       142.9733  174.369146\n18     19       71.23033       137.9025  180.925038\n19     20       67.13118       124.0449  170.513197"
     },
     "execution_count": 3,
     "metadata": {},
     "output_type": "execute_result"
    }
   ],
   "source": [
    "data = pd.read_csv( 'hw_25000.csv', names = ['index', 'height_inches', 'weight_pounds'], header = 0 )\n",
    "data['height'] = data['height_inches'] * 2.54\n",
    "data.head(20)"
   ]
  },
  {
   "cell_type": "code",
   "execution_count": 5,
   "metadata": {},
   "outputs": [
    {
     "data": {
      "text/plain": "127.07942116080001"
     },
     "execution_count": 5,
     "metadata": {},
     "output_type": "execute_result"
    }
   ],
   "source": [
    "data['weight_pounds'].mean()"
   ]
  },
  {
   "cell_type": "code",
   "execution_count": 21,
   "metadata": {},
   "outputs": [
    {
     "data": {
      "text/plain": "[153.0269,\n 142.3354,\n 144.2971,\n 123.3024,\n 141.4947,\n 136.4623,\n 112.3723,\n 114.14299999999999,\n 125.6107,\n 122.4618,\n 116.0866,\n 142.9733,\n 124.0449,\n 141.2807,\n 143.5392,\n 129.5027,\n 141.8501,\n 129.7244,\n 142.4235,\n 131.5502]"
     },
     "execution_count": 21,
     "metadata": {},
     "output_type": "execute_result"
    }
   ],
   "source": [
    "sample = data[(data['height'] > 170.0) & (data['height'] < 180.0)]\n",
    "sample = sample.head(20)['weight_pounds'].tolist()\n",
    "sample"
   ]
  },
  {
   "cell_type": "code",
   "execution_count": 22,
   "metadata": {},
   "outputs": [
    {
     "data": {
      "text/plain": "Ttest_1sampResult(statistic=2.2438433326710006, pvalue=0.03695275215128037)"
     },
     "execution_count": 22,
     "metadata": {},
     "output_type": "execute_result"
    }
   ],
   "source": [
    "stats.ttest_1samp(sample, data['weight_pounds'].mean())"
   ]
  },
  {
   "cell_type": "code",
   "execution_count": null,
   "metadata": {},
   "outputs": [],
   "source": []
  }
 ]
}