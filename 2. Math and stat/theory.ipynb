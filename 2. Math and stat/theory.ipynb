{
 "nbformat": 4,
 "nbformat_minor": 2,
 "metadata": {
  "language_info": {
   "name": "python",
   "codemirror_mode": {
    "name": "ipython",
    "version": 3
   },
   "version": "3.7.4-final"
  },
  "orig_nbformat": 2,
  "file_extension": ".py",
  "mimetype": "text/x-python",
  "name": "python",
  "npconvert_exporter": "python",
  "pygments_lexer": "ipython3",
  "version": 3,
  "kernelspec": {
   "name": "python37432bit821cf0b76b954d61adc954532f391a09",
   "display_name": "Python 3.7.4 32-bit"
  }
 },
 "cells": [
  {
   "cell_type": "markdown",
   "metadata": {},
   "source": [
    "## Генеральная совокупность"
   ]
  },
  {
   "cell_type": "markdown",
   "metadata": {},
   "source": [
    "Генеральная совокупность - множество всех объектов, относительно которых мы хотим сделать выводы.  \n",
    "Например, в общественных опросах ВЦИОМ генеральной совокупностью будут являться все жители РФ, а выборкой - респоденты, готовые ответить на вопросы.  \n",
    "\n",
    "Простая случайная выборка - оценка возраста пользователей ВК, перебирая случайные ID.  \n",
    " \n",
    "Стратифицированная выборка - разбиваем генеральную совокупность на несколько групп и из каждой группы набираем выборку для исследования.  \n",
    "\n"
   ]
  },
  {
   "cell_type": "code",
   "execution_count": 1,
   "metadata": {},
   "outputs": [],
   "source": [
    "import numpy as np"
   ]
  },
  {
   "cell_type": "code",
   "execution_count": null,
   "metadata": {},
   "outputs": [],
   "source": []
  }
 ]
}