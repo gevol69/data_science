{
 "nbformat": 4,
 "nbformat_minor": 2,
 "metadata": {
  "language_info": {
   "name": "python",
   "codemirror_mode": {
    "name": "ipython",
    "version": 3
   },
   "version": "3.7.4-final"
  },
  "orig_nbformat": 2,
  "file_extension": ".py",
  "mimetype": "text/x-python",
  "name": "python",
  "npconvert_exporter": "python",
  "pygments_lexer": "ipython3",
  "version": 3,
  "kernelspec": {
   "name": "python37432bit071573435c334bbda4e7d57a8b43dfc8",
   "display_name": "Python 3.7.4 32-bit"
  }
 },
 "cells": [
  {
   "cell_type": "markdown",
   "metadata": {},
   "source": [
    "В файле представлены данные о средней заработной плате и населению РФ по регионам на 1 января 2019 год по данным Росстата. Представим ситуацию, что из-за невнимательности операциониста, регионы: Республика Татарстан, Республика Марий Эл оказались не представлены в итоговой сводке.\n",
    "Роль невнимательного операциониста придется исполнить Вам (нужно удалить данные по указанным регионам) и удалить данные по населению, а далее работать уже с новой выборкой, сохранив ее в формат CSV.\n",
    "\n",
    "\n"
   ]
  },
  {
   "cell_type": "code",
   "execution_count": 3,
   "metadata": {},
   "outputs": [],
   "source": [
    "import numpy as np \n",
    "import pandas as pd \n",
    "\n",
    "data = pd.read_csv('salary_and_population.csv', delimiter=',')"
   ]
  },
  {
   "cell_type": "code",
   "execution_count": 5,
   "metadata": {},
   "outputs": [
    {
     "output_type": "stream",
     "name": "stdout",
     "text": "<class 'pandas.core.frame.DataFrame'>\nRangeIndex: 85 entries, 0 to 84\nData columns (total 5 columns):\n #   Column      Non-Null Count  Dtype  \n---  ------      --------------  -----  \n 0   Region_RU   85 non-null     object \n 1   Region_EN   85 non-null     object \n 2   AVG_Salary  85 non-null     int64  \n 3   Population  85 non-null     int64  \n 4   Unnamed: 4  0 non-null      float64\ndtypes: float64(1), int64(2), object(2)\nmemory usage: 2.7+ KB\n"
    }
   ],
   "source": [
    "data.info()"
   ]
  },
  {
   "cell_type": "code",
   "execution_count": 6,
   "metadata": {},
   "outputs": [
    {
     "output_type": "error",
     "ename": "SyntaxError",
     "evalue": "invalid syntax (<ipython-input-6-94a9f705dc44>, line 1)",
     "traceback": [
      "\u001b[1;36m  File \u001b[1;32m\"<ipython-input-6-94a9f705dc44>\"\u001b[1;36m, line \u001b[1;32m1\u001b[0m\n\u001b[1;33m    data[(data['Region_RU'] != 'Республика Татарстан') && (data['Region_RU'] != 'Республика Марий Эл') ]\u001b[0m\n\u001b[1;37m                                                        ^\u001b[0m\n\u001b[1;31mSyntaxError\u001b[0m\u001b[1;31m:\u001b[0m invalid syntax\n"
     ]
    }
   ],
   "source": [
    "data[(data['Region_RU'] != 'Республика Татарстан') and (data['Region_RU'] != 'Республика Марий Эл') ]"
   ]
  },
  {
   "cell_type": "code",
   "execution_count": null,
   "metadata": {},
   "outputs": [],
   "source": []
  }
 ]
}