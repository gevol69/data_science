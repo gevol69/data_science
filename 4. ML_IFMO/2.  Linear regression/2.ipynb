{
 "nbformat": 4,
 "nbformat_minor": 2,
 "metadata": {
  "language_info": {
   "name": "python",
   "codemirror_mode": {
    "name": "ipython",
    "version": 3
   },
   "version": "3.7.4-final"
  },
  "orig_nbformat": 2,
  "file_extension": ".py",
  "mimetype": "text/x-python",
  "name": "python",
  "npconvert_exporter": "python",
  "pygments_lexer": "ipython3",
  "version": 3,
  "kernelspec": {
   "name": "python37432bit071573435c334bbda4e7d57a8b43dfc8",
   "display_name": "Python 3.7.4 32-bit"
  }
 },
 "cells": [
  {
   "cell_type": "markdown",
   "metadata": {},
   "source": [
    "В прилагаемом файле представлены данные, собранные путем голосования за самые лучшие (или, по крайней мере, самые популярные) конфеты Хэллоуина. Обучите модель линейной многомерной регрессии. В качестве предикторов выступают поля: chocolate, fruity, caramel, peanutyalmondy, nougat, crispedricewafer, hard, bar, pluribus, sugarpercent, pricepercent, отклик — winpercent.\n",
    "\n",
    "В качестве тренировочного набора данных используйте данные из файла, за иключением следующих конфет: Air Heads, Kit Kat. Обучите модель. Если используете Azure ML Studio, укажите random seed = 2019 в параметрах блока Linear Regression."
   ]
  },
  {
   "cell_type": "code",
   "execution_count": 2,
   "metadata": {},
   "outputs": [],
   "source": [
    "import numpy as np \n",
    "import pandas as pd \n",
    "from sklearn.linear_model import LinearRegression"
   ]
  },
  {
   "cell_type": "code",
   "execution_count": 44,
   "metadata": {},
   "outputs": [],
   "source": [
    "data = pd.read_csv('candy-data.csv', delimiter=',', index_col='competitorname')\n",
    "train_data = data.drop(['Air Heads', 'Kit Kat'])"
   ]
  },
  {
   "cell_type": "code",
   "execution_count": 45,
   "metadata": {},
   "outputs": [
    {
     "output_type": "execute_result",
     "data": {
      "text/plain": "                    chocolate  fruity  caramel  peanutyalmondy  nougat  \\\ncompetitorname                                                           \n100 Grand                   1       0        1               0       0   \n3 Musketeers                1       0        0               0       1   \nOne dime                    0       0        0               0       0   \nOne quarter                 0       0        0               0       0   \nAlmond Joy                  1       0        0               1       0   \nBaby Ruth                   1       0        1               1       1   \nBoston Baked Beans          0       0        0               1       0   \nCandy Corn                  0       0        0               0       0   \nCaramel Apple Pops          0       1        1               0       0   \nCharleston Chew             1       0        0               0       1   \n\n                    crispedricewafer  hard  bar  pluribus  sugarpercent  \\\ncompetitorname                                                            \n100 Grand                          1     0    1         0         0.732   \n3 Musketeers                       0     0    1         0         0.604   \nOne dime                           0     0    0         0         0.011   \nOne quarter                        0     0    0         0         0.011   \nAlmond Joy                         0     0    1         0         0.465   \nBaby Ruth                          0     0    1         0         0.604   \nBoston Baked Beans                 0     0    0         1         0.313   \nCandy Corn                         0     0    0         1         0.906   \nCaramel Apple Pops                 0     0    0         0         0.604   \nCharleston Chew                    0     0    1         0         0.604   \n\n                    pricepercent  \ncompetitorname                    \n100 Grand                  0.860  \n3 Musketeers               0.511  \nOne dime                   0.116  \nOne quarter                0.511  \nAlmond Joy                 0.767  \nBaby Ruth                  0.767  \nBoston Baked Beans         0.511  \nCandy Corn                 0.325  \nCaramel Apple Pops         0.325  \nCharleston Chew            0.511  ",
      "text/html": "<div>\n<style scoped>\n    .dataframe tbody tr th:only-of-type {\n        vertical-align: middle;\n    }\n\n    .dataframe tbody tr th {\n        vertical-align: top;\n    }\n\n    .dataframe thead th {\n        text-align: right;\n    }\n</style>\n<table border=\"1\" class=\"dataframe\">\n  <thead>\n    <tr style=\"text-align: right;\">\n      <th></th>\n      <th>chocolate</th>\n      <th>fruity</th>\n      <th>caramel</th>\n      <th>peanutyalmondy</th>\n      <th>nougat</th>\n      <th>crispedricewafer</th>\n      <th>hard</th>\n      <th>bar</th>\n      <th>pluribus</th>\n      <th>sugarpercent</th>\n      <th>pricepercent</th>\n    </tr>\n    <tr>\n      <th>competitorname</th>\n      <th></th>\n      <th></th>\n      <th></th>\n      <th></th>\n      <th></th>\n      <th></th>\n      <th></th>\n      <th></th>\n      <th></th>\n      <th></th>\n      <th></th>\n    </tr>\n  </thead>\n  <tbody>\n    <tr>\n      <th>100 Grand</th>\n      <td>1</td>\n      <td>0</td>\n      <td>1</td>\n      <td>0</td>\n      <td>0</td>\n      <td>1</td>\n      <td>0</td>\n      <td>1</td>\n      <td>0</td>\n      <td>0.732</td>\n      <td>0.860</td>\n    </tr>\n    <tr>\n      <th>3 Musketeers</th>\n      <td>1</td>\n      <td>0</td>\n      <td>0</td>\n      <td>0</td>\n      <td>1</td>\n      <td>0</td>\n      <td>0</td>\n      <td>1</td>\n      <td>0</td>\n      <td>0.604</td>\n      <td>0.511</td>\n    </tr>\n    <tr>\n      <th>One dime</th>\n      <td>0</td>\n      <td>0</td>\n      <td>0</td>\n      <td>0</td>\n      <td>0</td>\n      <td>0</td>\n      <td>0</td>\n      <td>0</td>\n      <td>0</td>\n      <td>0.011</td>\n      <td>0.116</td>\n    </tr>\n    <tr>\n      <th>One quarter</th>\n      <td>0</td>\n      <td>0</td>\n      <td>0</td>\n      <td>0</td>\n      <td>0</td>\n      <td>0</td>\n      <td>0</td>\n      <td>0</td>\n      <td>0</td>\n      <td>0.011</td>\n      <td>0.511</td>\n    </tr>\n    <tr>\n      <th>Almond Joy</th>\n      <td>1</td>\n      <td>0</td>\n      <td>0</td>\n      <td>1</td>\n      <td>0</td>\n      <td>0</td>\n      <td>0</td>\n      <td>1</td>\n      <td>0</td>\n      <td>0.465</td>\n      <td>0.767</td>\n    </tr>\n    <tr>\n      <th>Baby Ruth</th>\n      <td>1</td>\n      <td>0</td>\n      <td>1</td>\n      <td>1</td>\n      <td>1</td>\n      <td>0</td>\n      <td>0</td>\n      <td>1</td>\n      <td>0</td>\n      <td>0.604</td>\n      <td>0.767</td>\n    </tr>\n    <tr>\n      <th>Boston Baked Beans</th>\n      <td>0</td>\n      <td>0</td>\n      <td>0</td>\n      <td>1</td>\n      <td>0</td>\n      <td>0</td>\n      <td>0</td>\n      <td>0</td>\n      <td>1</td>\n      <td>0.313</td>\n      <td>0.511</td>\n    </tr>\n    <tr>\n      <th>Candy Corn</th>\n      <td>0</td>\n      <td>0</td>\n      <td>0</td>\n      <td>0</td>\n      <td>0</td>\n      <td>0</td>\n      <td>0</td>\n      <td>0</td>\n      <td>1</td>\n      <td>0.906</td>\n      <td>0.325</td>\n    </tr>\n    <tr>\n      <th>Caramel Apple Pops</th>\n      <td>0</td>\n      <td>1</td>\n      <td>1</td>\n      <td>0</td>\n      <td>0</td>\n      <td>0</td>\n      <td>0</td>\n      <td>0</td>\n      <td>0</td>\n      <td>0.604</td>\n      <td>0.325</td>\n    </tr>\n    <tr>\n      <th>Charleston Chew</th>\n      <td>1</td>\n      <td>0</td>\n      <td>0</td>\n      <td>0</td>\n      <td>1</td>\n      <td>0</td>\n      <td>0</td>\n      <td>1</td>\n      <td>0</td>\n      <td>0.604</td>\n      <td>0.511</td>\n    </tr>\n  </tbody>\n</table>\n</div>"
     },
     "metadata": {},
     "execution_count": 45
    }
   ],
   "source": [
    "X = pd.DataFrame(train_data.drop(['winpercent', 'Y'], axis=1))\n",
    "\n",
    "Y = pd.DataFrame(train_data['winpercent'])\n"
   ]
  },
  {
   "cell_type": "code",
   "execution_count": 46,
   "metadata": {},
   "outputs": [],
   "source": [
    "reg = LinearRegression().fit(X, Y)\n",
    ""
   ]
  },
  {
   "cell_type": "code",
   "execution_count": 47,
   "metadata": {},
   "outputs": [
    {
     "output_type": "execute_result",
     "data": {
      "text/plain": "array([[52.89627581]])"
     },
     "metadata": {},
     "execution_count": 47
    }
   ],
   "source": [
    "AirHeads = data.loc['Air Heads',:].to_frame().T\n",
    "reg.predict(AirHeads.drop(['winpercent', 'Y'], axis=1))\n",
    ""
   ]
  },
  {
   "cell_type": "code",
   "execution_count": 48,
   "metadata": {},
   "outputs": [
    {
     "output_type": "execute_result",
     "data": {
      "text/plain": "array([[62.36513914]])"
     },
     "metadata": {},
     "execution_count": 48
    }
   ],
   "source": [
    "KitKat = data.loc['Kit Kat',:].to_frame().T\n",
    "reg.predict(KitKat.drop(['winpercent', 'Y'], axis=1))"
   ]
  },
  {
   "cell_type": "code",
   "execution_count": 50,
   "metadata": {},
   "outputs": [
    {
     "output_type": "execute_result",
     "data": {
      "text/plain": "array([[61.26894586]])"
     },
     "metadata": {},
     "execution_count": 50
    }
   ],
   "source": [
    "reg.predict([[1, 1, 1, 0, 1, 0, 1, 1, 1, 0.669, 0.456]])"
   ]
  },
  {
   "cell_type": "code",
   "execution_count": null,
   "metadata": {},
   "outputs": [],
   "source": []
  }
 ]
}