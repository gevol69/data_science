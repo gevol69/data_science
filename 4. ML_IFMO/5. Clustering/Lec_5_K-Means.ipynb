{
 "cells": [
  {
   "cell_type": "markdown",
   "metadata": {
    "collapsed": true
   },
   "source": [
    "# Введение в Машинное обучение\n",
    "\n",
    "## Высшая Школа Цифровой Культуры\n",
    "\n",
    "## Материалы к лекции 5. K-Means."
   ]
  },
  {
   "cell_type": "markdown",
   "metadata": {},
   "source": [
    "Обработка данных"
   ]
  },
  {
   "cell_type": "code",
   "execution_count": 22,
   "metadata": {},
   "outputs": [
    {
     "output_type": "execute_result",
     "data": {
      "text/plain": "         X   Y  Cluster\nObject                 \n1        7  12        0\n2       20  17        1\n3       12   4        2\n4       20   7        0\n5        1  10        1\n6       15   4        2\n7        6  14        2\n8        8  17        2\n9       13  11        0\n10       3  11        0\n11      14  18        1\n12      20  10        1\n13      18  12        1\n14       5   1        1\n15      12   3        0",
      "text/html": "<div>\n<style scoped>\n    .dataframe tbody tr th:only-of-type {\n        vertical-align: middle;\n    }\n\n    .dataframe tbody tr th {\n        vertical-align: top;\n    }\n\n    .dataframe thead th {\n        text-align: right;\n    }\n</style>\n<table border=\"1\" class=\"dataframe\">\n  <thead>\n    <tr style=\"text-align: right;\">\n      <th></th>\n      <th>X</th>\n      <th>Y</th>\n      <th>Cluster</th>\n    </tr>\n    <tr>\n      <th>Object</th>\n      <th></th>\n      <th></th>\n      <th></th>\n    </tr>\n  </thead>\n  <tbody>\n    <tr>\n      <th>1</th>\n      <td>7</td>\n      <td>12</td>\n      <td>0</td>\n    </tr>\n    <tr>\n      <th>2</th>\n      <td>20</td>\n      <td>17</td>\n      <td>1</td>\n    </tr>\n    <tr>\n      <th>3</th>\n      <td>12</td>\n      <td>4</td>\n      <td>2</td>\n    </tr>\n    <tr>\n      <th>4</th>\n      <td>20</td>\n      <td>7</td>\n      <td>0</td>\n    </tr>\n    <tr>\n      <th>5</th>\n      <td>1</td>\n      <td>10</td>\n      <td>1</td>\n    </tr>\n    <tr>\n      <th>6</th>\n      <td>15</td>\n      <td>4</td>\n      <td>2</td>\n    </tr>\n    <tr>\n      <th>7</th>\n      <td>6</td>\n      <td>14</td>\n      <td>2</td>\n    </tr>\n    <tr>\n      <th>8</th>\n      <td>8</td>\n      <td>17</td>\n      <td>2</td>\n    </tr>\n    <tr>\n      <th>9</th>\n      <td>13</td>\n      <td>11</td>\n      <td>0</td>\n    </tr>\n    <tr>\n      <th>10</th>\n      <td>3</td>\n      <td>11</td>\n      <td>0</td>\n    </tr>\n    <tr>\n      <th>11</th>\n      <td>14</td>\n      <td>18</td>\n      <td>1</td>\n    </tr>\n    <tr>\n      <th>12</th>\n      <td>20</td>\n      <td>10</td>\n      <td>1</td>\n    </tr>\n    <tr>\n      <th>13</th>\n      <td>18</td>\n      <td>12</td>\n      <td>1</td>\n    </tr>\n    <tr>\n      <th>14</th>\n      <td>5</td>\n      <td>1</td>\n      <td>1</td>\n    </tr>\n    <tr>\n      <th>15</th>\n      <td>12</td>\n      <td>3</td>\n      <td>0</td>\n    </tr>\n  </tbody>\n</table>\n</div>"
     },
     "metadata": {},
     "execution_count": 22
    }
   ],
   "source": [
    "#чтение данных, так как названия конфет уникальны, используем их в качестве индекса\n",
    "import numpy as np\n",
    "import pandas as pd\n",
    "DATA = pd.read_csv(\"data.csv\", delimiter=',', index_col='Object')\n",
    "DATA"
   ]
  },
  {
   "cell_type": "code",
   "execution_count": 23,
   "metadata": {},
   "outputs": [
    {
     "output_type": "execute_result",
     "data": {
      "text/plain": "         X   Y\nObject        \n1        7  12\n2       20  17\n3       12   4\n4       20   7\n5        1  10\n6       15   4\n7        6  14\n8        8  17\n9       13  11\n10       3  11\n11      14  18\n12      20  10\n13      18  12\n14       5   1\n15      12   3",
      "text/html": "<div>\n<style scoped>\n    .dataframe tbody tr th:only-of-type {\n        vertical-align: middle;\n    }\n\n    .dataframe tbody tr th {\n        vertical-align: top;\n    }\n\n    .dataframe thead th {\n        text-align: right;\n    }\n</style>\n<table border=\"1\" class=\"dataframe\">\n  <thead>\n    <tr style=\"text-align: right;\">\n      <th></th>\n      <th>X</th>\n      <th>Y</th>\n    </tr>\n    <tr>\n      <th>Object</th>\n      <th></th>\n      <th></th>\n    </tr>\n  </thead>\n  <tbody>\n    <tr>\n      <th>1</th>\n      <td>7</td>\n      <td>12</td>\n    </tr>\n    <tr>\n      <th>2</th>\n      <td>20</td>\n      <td>17</td>\n    </tr>\n    <tr>\n      <th>3</th>\n      <td>12</td>\n      <td>4</td>\n    </tr>\n    <tr>\n      <th>4</th>\n      <td>20</td>\n      <td>7</td>\n    </tr>\n    <tr>\n      <th>5</th>\n      <td>1</td>\n      <td>10</td>\n    </tr>\n    <tr>\n      <th>6</th>\n      <td>15</td>\n      <td>4</td>\n    </tr>\n    <tr>\n      <th>7</th>\n      <td>6</td>\n      <td>14</td>\n    </tr>\n    <tr>\n      <th>8</th>\n      <td>8</td>\n      <td>17</td>\n    </tr>\n    <tr>\n      <th>9</th>\n      <td>13</td>\n      <td>11</td>\n    </tr>\n    <tr>\n      <th>10</th>\n      <td>3</td>\n      <td>11</td>\n    </tr>\n    <tr>\n      <th>11</th>\n      <td>14</td>\n      <td>18</td>\n    </tr>\n    <tr>\n      <th>12</th>\n      <td>20</td>\n      <td>10</td>\n    </tr>\n    <tr>\n      <th>13</th>\n      <td>18</td>\n      <td>12</td>\n    </tr>\n    <tr>\n      <th>14</th>\n      <td>5</td>\n      <td>1</td>\n    </tr>\n    <tr>\n      <th>15</th>\n      <td>12</td>\n      <td>3</td>\n    </tr>\n  </tbody>\n</table>\n</div>"
     },
     "metadata": {},
     "execution_count": 23
    }
   ],
   "source": [
    "#удаление столбца Cluster из набора данных\n",
    "coords = DATA.drop('Cluster', axis=1)\n",
    "coords"
   ]
  },
  {
   "cell_type": "code",
   "execution_count": 24,
   "metadata": {},
   "outputs": [],
   "source": [
    "#подключение KMeans из библиотеки sklearn\n",
    "from sklearn.cluster import KMeans"
   ]
  },
  {
   "cell_type": "code",
   "execution_count": 25,
   "metadata": {},
   "outputs": [],
   "source": [
    "#координаты центроидов\n",
    "centroid = np.array([[11.0, 8.8], [13.0, 11.33], [10.25, 9.75]])"
   ]
  },
  {
   "cell_type": "code",
   "execution_count": 26,
   "metadata": {},
   "outputs": [],
   "source": [
    "#инициализация модели\n",
    "kmeans = KMeans(n_clusters=3, init=centroid, max_iter=100, n_init=1)"
   ]
  },
  {
   "cell_type": "code",
   "execution_count": 27,
   "metadata": {},
   "outputs": [
    {
     "output_type": "execute_result",
     "data": {
      "text/plain": "KMeans(algorithm='auto', copy_x=True,\n       init=array([[11.  ,  8.8 ],\n       [13.  , 11.33],\n       [10.25,  9.75]]),\n       max_iter=100, n_clusters=3, n_init=1, n_jobs=None,\n       precompute_distances='auto', random_state=None, tol=0.0001, verbose=0)"
     },
     "metadata": {},
     "execution_count": 27
    }
   ],
   "source": [
    "#обучение модели на данных из coords\n",
    "model = kmeans.fit(coords)\n",
    "model"
   ]
  },
  {
   "cell_type": "code",
   "execution_count": 28,
   "metadata": {},
   "outputs": [
    {
     "output_type": "execute_result",
     "data": {
      "text/plain": "[2, 1, 0, 1, 2, 0, 2, 2, 1, 2, 1, 1, 1, 0, 0]"
     },
     "metadata": {},
     "execution_count": 28
    }
   ],
   "source": [
    "#вывод назначенных кластеров\n",
    "model.labels_.tolist()"
   ]
  },
  {
   "cell_type": "code",
   "execution_count": 29,
   "metadata": {},
   "outputs": [],
   "source": [
    "#обучение модели и расчет расстояний до центроидов\n",
    "alldistances = kmeans.fit_transform(coords)"
   ]
  },
  {
   "cell_type": "code",
   "execution_count": 30,
   "metadata": {},
   "outputs": [
    {
     "output_type": "execute_result",
     "data": {
      "text/plain": "array([[ 9.8488578 , 10.51189802,  2.15406592],\n       [16.64331698,  5.14781507, 15.57690598],\n       [ 1.41421356, 10.12422837, 11.24455424],\n       [ 9.8488578 ,  6.04152299, 16.08228839],\n       [12.20655562, 16.68831927,  4.88262225],\n       [ 4.12310563,  8.86002257, 13.32066064],\n       [12.08304597, 11.5974135 ,  1.56204994],\n       [14.31782106, 10.51189802,  5.16139516],\n       [ 8.24621125,  4.74341649,  8.2       ],\n       [11.3137085 , 14.57737974,  2.69072481],\n       [15.29705854,  6.51920241, 10.39422917],\n       [11.40175425,  3.53553391, 15.25909565],\n       [11.40175425,  0.70710678, 13.02459212],\n       [ 6.32455532, 16.98528775, 11.8       ],\n       [ 1.        , 10.9772492 , 12.04325537]])"
     },
     "metadata": {},
     "execution_count": 30
    }
   ],
   "source": [
    "#вывод расстояний от данных до всех центроидов\n",
    "alldistances"
   ]
  },
  {
   "cell_type": "code",
   "execution_count": 31,
   "metadata": {},
   "outputs": [
    {
     "output_type": "execute_result",
     "data": {
      "text/plain": "3.2154686275"
     },
     "metadata": {},
     "execution_count": 31
    }
   ],
   "source": [
    "(1.41421356 + 4.12310563 + 6.32455532 + 1) / 4"
   ]
  },
  {
   "cell_type": "code",
   "execution_count": null,
   "metadata": {},
   "outputs": [],
   "source": []
  }
 ],
 "metadata": {
  "kernelspec": {
   "display_name": "Python 3.7.4 32-bit",
   "language": "python",
   "name": "python37432bit071573435c334bbda4e7d57a8b43dfc8"
  },
  "language_info": {
   "codemirror_mode": {
    "name": "ipython",
    "version": 3
   },
   "file_extension": ".py",
   "mimetype": "text/x-python",
   "name": "python",
   "nbconvert_exporter": "python",
   "pygments_lexer": "ipython3",
   "version": "3.7.4-final"
  }
 },
 "nbformat": 4,
 "nbformat_minor": 2
}