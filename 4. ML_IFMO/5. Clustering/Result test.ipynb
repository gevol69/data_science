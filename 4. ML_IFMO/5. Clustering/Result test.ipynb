{
 "cells": [
  {
   "cell_type": "markdown",
   "metadata": {},
   "source": [
    "В Базе Данных есть таблица pulsar_stars, в которой содержатся сведения о звездах, полученные в ходе исследовании вселенной (High Time Resolution Universe Survey) с целью определения одного из типа нейтронных звезд — пульсаров. Поле  TARGET таблицы  pulsar_stats является откликом, все остальные поля — предикторы.\n",
    "\n",
    "Вам необходимо получить выборку из таблицы pulsar_stats с помощью запросов на основании следующих критериев:\n",
    "\n",
    "- Все строки таблицы, где TARGET = 0 и MIP от 96.921875 до 97.4140625 включительно\n",
    "- Все строки таблицы, где TARGET = 1 и MIP от 41.8828125 до 47.4140625 включительно\n",
    "\n",
    "\n"
   ]
  },
  {
   "cell_type": "markdown",
   "metadata": {},
   "source": [
    "Число строк в полученной выборке"
   ]
  },
  {
   "cell_type": "markdown",
   "metadata": {},
   "source": [
    "SELECT COUNT(*) FROM pulsar_stars WHERE ((TARGET=0 AND MIP between 96.921875 AND 97.4140625) OR (TARGET=1 AND MIP between 41.8828125 AND 47.4140625))\n",
    "\n",
    "Строк: 202"
   ]
  },
  {
   "cell_type": "code",
   "execution_count": 18,
   "metadata": {},
   "outputs": [
    {
     "output_type": "execute_result",
     "data": {
      "text/plain": "           MIP      STDIP      EKIP        SIP         MC       STDC  \\\n0    97.234375  46.536357  0.558616   0.384429   2.010033  13.634376   \n1    42.578125  46.638337  2.841558   7.832819  12.971572  38.498849   \n2    97.171875  45.656172  0.721308   0.482644   1.557692  12.590775   \n3    42.023438  33.027088  3.668886  19.648005  87.904682  86.479951   \n4    46.171875  36.158313  3.294613  13.590332  14.005017  43.687473   \n..         ...        ...       ...        ...        ...        ...   \n197  47.031250  36.980979  3.744839  16.509533  71.880435  73.559647   \n198  97.148438  37.160145  0.457632   1.767783   2.464883  17.646414   \n199  97.101562  46.205864  0.486238   0.375747   0.418060   8.618880   \n200  44.796875  44.724043  3.508989  12.290881  57.566890  66.830025   \n201  97.242188  41.991767  0.390350   0.795617   4.509197  26.074612   \n\n           EKC          SC  TARGET  \n0    10.022346  132.125623       0  \n1     3.799728   14.990834       1  \n2    11.434676  169.923103       0  \n3     0.259049   -1.504341       1  \n4     3.424031   11.564085       1  \n..         ...         ...     ...  \n197   0.973483   -0.141037       1  \n198   9.645039  104.454324       0  \n199  25.031765  682.519179       0  \n200   1.231090    0.754103       1  \n201   6.539063   44.921089       0  \n\n[202 rows x 9 columns]",
      "text/html": "<div>\n<style scoped>\n    .dataframe tbody tr th:only-of-type {\n        vertical-align: middle;\n    }\n\n    .dataframe tbody tr th {\n        vertical-align: top;\n    }\n\n    .dataframe thead th {\n        text-align: right;\n    }\n</style>\n<table border=\"1\" class=\"dataframe\">\n  <thead>\n    <tr style=\"text-align: right;\">\n      <th></th>\n      <th>MIP</th>\n      <th>STDIP</th>\n      <th>EKIP</th>\n      <th>SIP</th>\n      <th>MC</th>\n      <th>STDC</th>\n      <th>EKC</th>\n      <th>SC</th>\n      <th>TARGET</th>\n    </tr>\n  </thead>\n  <tbody>\n    <tr>\n      <th>0</th>\n      <td>97.234375</td>\n      <td>46.536357</td>\n      <td>0.558616</td>\n      <td>0.384429</td>\n      <td>2.010033</td>\n      <td>13.634376</td>\n      <td>10.022346</td>\n      <td>132.125623</td>\n      <td>0</td>\n    </tr>\n    <tr>\n      <th>1</th>\n      <td>42.578125</td>\n      <td>46.638337</td>\n      <td>2.841558</td>\n      <td>7.832819</td>\n      <td>12.971572</td>\n      <td>38.498849</td>\n      <td>3.799728</td>\n      <td>14.990834</td>\n      <td>1</td>\n    </tr>\n    <tr>\n      <th>2</th>\n      <td>97.171875</td>\n      <td>45.656172</td>\n      <td>0.721308</td>\n      <td>0.482644</td>\n      <td>1.557692</td>\n      <td>12.590775</td>\n      <td>11.434676</td>\n      <td>169.923103</td>\n      <td>0</td>\n    </tr>\n    <tr>\n      <th>3</th>\n      <td>42.023438</td>\n      <td>33.027088</td>\n      <td>3.668886</td>\n      <td>19.648005</td>\n      <td>87.904682</td>\n      <td>86.479951</td>\n      <td>0.259049</td>\n      <td>-1.504341</td>\n      <td>1</td>\n    </tr>\n    <tr>\n      <th>4</th>\n      <td>46.171875</td>\n      <td>36.158313</td>\n      <td>3.294613</td>\n      <td>13.590332</td>\n      <td>14.005017</td>\n      <td>43.687473</td>\n      <td>3.424031</td>\n      <td>11.564085</td>\n      <td>1</td>\n    </tr>\n    <tr>\n      <th>...</th>\n      <td>...</td>\n      <td>...</td>\n      <td>...</td>\n      <td>...</td>\n      <td>...</td>\n      <td>...</td>\n      <td>...</td>\n      <td>...</td>\n      <td>...</td>\n    </tr>\n    <tr>\n      <th>197</th>\n      <td>47.031250</td>\n      <td>36.980979</td>\n      <td>3.744839</td>\n      <td>16.509533</td>\n      <td>71.880435</td>\n      <td>73.559647</td>\n      <td>0.973483</td>\n      <td>-0.141037</td>\n      <td>1</td>\n    </tr>\n    <tr>\n      <th>198</th>\n      <td>97.148438</td>\n      <td>37.160145</td>\n      <td>0.457632</td>\n      <td>1.767783</td>\n      <td>2.464883</td>\n      <td>17.646414</td>\n      <td>9.645039</td>\n      <td>104.454324</td>\n      <td>0</td>\n    </tr>\n    <tr>\n      <th>199</th>\n      <td>97.101562</td>\n      <td>46.205864</td>\n      <td>0.486238</td>\n      <td>0.375747</td>\n      <td>0.418060</td>\n      <td>8.618880</td>\n      <td>25.031765</td>\n      <td>682.519179</td>\n      <td>0</td>\n    </tr>\n    <tr>\n      <th>200</th>\n      <td>44.796875</td>\n      <td>44.724043</td>\n      <td>3.508989</td>\n      <td>12.290881</td>\n      <td>57.566890</td>\n      <td>66.830025</td>\n      <td>1.231090</td>\n      <td>0.754103</td>\n      <td>1</td>\n    </tr>\n    <tr>\n      <th>201</th>\n      <td>97.242188</td>\n      <td>41.991767</td>\n      <td>0.390350</td>\n      <td>0.795617</td>\n      <td>4.509197</td>\n      <td>26.074612</td>\n      <td>6.539063</td>\n      <td>44.921089</td>\n      <td>0</td>\n    </tr>\n  </tbody>\n</table>\n<p>202 rows × 9 columns</p>\n</div>"
     },
     "metadata": {},
     "execution_count": 18
    }
   ],
   "source": [
    "#импортируем данные сюда\n",
    "import numpy as np \n",
    "import pandas as pd \n",
    "\n",
    "data = pd.read_csv(\"data_stars.csv\", delimiter=',')\n",
    "data"
   ]
  },
  {
   "cell_type": "markdown",
   "metadata": {},
   "source": [
    "Выборочное среднее для столбца MIP"
   ]
  },
  {
   "cell_type": "code",
   "execution_count": 3,
   "metadata": {},
   "outputs": [
    {
     "output_type": "execute_result",
     "data": {
      "text/plain": "70.79517326732673"
     },
     "metadata": {},
     "execution_count": 3
    }
   ],
   "source": [
    "data['MIP'].mean()"
   ]
  },
  {
   "cell_type": "markdown",
   "metadata": {},
   "source": [
    "Линейная нормировка всех значений предикторов полученной выборки"
   ]
  },
  {
   "cell_type": "code",
   "execution_count": 52,
   "metadata": {},
   "outputs": [
    {
     "output_type": "execute_result",
     "data": {
      "text/plain": "          MIP     STDIP      EKIP       SIP        MC      STDC       EKC  \\\n0    0.996764  0.537293  0.071732  0.017032  0.008473  0.050428  0.440305   \n1    0.012521  0.540199  0.511476  0.226462  0.066817  0.300425  0.208266   \n2    0.995639  0.512213  0.103070  0.019793  0.006066  0.039935  0.492970   \n3    0.002532  0.152355  0.670838  0.558676  0.465657  0.782845  0.076236   \n4    0.077237  0.241577  0.598744  0.388349  0.072318  0.352593  0.194257   \n..        ...       ...       ...       ...       ...       ...       ...   \n197  0.092712  0.265019  0.685468  0.470430  0.380366  0.652939  0.102877   \n198  0.995217  0.270124  0.052280  0.055928  0.010894  0.090766  0.426235   \n199  0.994373  0.527876  0.057790  0.016788  0.000000  0.000000  1.000000   \n200  0.052476  0.485652  0.640038  0.351812  0.304181  0.585277  0.112483   \n201  0.996905  0.407798  0.039320  0.028593  0.021776  0.175507  0.310415   \n\n           SC  \n0    0.195878  \n1    0.024745  \n2    0.251100  \n3    0.000645  \n4    0.019738  \n..        ...  \n197  0.002637  \n198  0.155450  \n199  1.000000  \n200  0.003945  \n201  0.068473  \n\n[202 rows x 8 columns]",
      "text/html": "<div>\n<style scoped>\n    .dataframe tbody tr th:only-of-type {\n        vertical-align: middle;\n    }\n\n    .dataframe tbody tr th {\n        vertical-align: top;\n    }\n\n    .dataframe thead th {\n        text-align: right;\n    }\n</style>\n<table border=\"1\" class=\"dataframe\">\n  <thead>\n    <tr style=\"text-align: right;\">\n      <th></th>\n      <th>MIP</th>\n      <th>STDIP</th>\n      <th>EKIP</th>\n      <th>SIP</th>\n      <th>MC</th>\n      <th>STDC</th>\n      <th>EKC</th>\n      <th>SC</th>\n    </tr>\n  </thead>\n  <tbody>\n    <tr>\n      <th>0</th>\n      <td>0.996764</td>\n      <td>0.537293</td>\n      <td>0.071732</td>\n      <td>0.017032</td>\n      <td>0.008473</td>\n      <td>0.050428</td>\n      <td>0.440305</td>\n      <td>0.195878</td>\n    </tr>\n    <tr>\n      <th>1</th>\n      <td>0.012521</td>\n      <td>0.540199</td>\n      <td>0.511476</td>\n      <td>0.226462</td>\n      <td>0.066817</td>\n      <td>0.300425</td>\n      <td>0.208266</td>\n      <td>0.024745</td>\n    </tr>\n    <tr>\n      <th>2</th>\n      <td>0.995639</td>\n      <td>0.512213</td>\n      <td>0.103070</td>\n      <td>0.019793</td>\n      <td>0.006066</td>\n      <td>0.039935</td>\n      <td>0.492970</td>\n      <td>0.251100</td>\n    </tr>\n    <tr>\n      <th>3</th>\n      <td>0.002532</td>\n      <td>0.152355</td>\n      <td>0.670838</td>\n      <td>0.558676</td>\n      <td>0.465657</td>\n      <td>0.782845</td>\n      <td>0.076236</td>\n      <td>0.000645</td>\n    </tr>\n    <tr>\n      <th>4</th>\n      <td>0.077237</td>\n      <td>0.241577</td>\n      <td>0.598744</td>\n      <td>0.388349</td>\n      <td>0.072318</td>\n      <td>0.352593</td>\n      <td>0.194257</td>\n      <td>0.019738</td>\n    </tr>\n    <tr>\n      <th>...</th>\n      <td>...</td>\n      <td>...</td>\n      <td>...</td>\n      <td>...</td>\n      <td>...</td>\n      <td>...</td>\n      <td>...</td>\n      <td>...</td>\n    </tr>\n    <tr>\n      <th>197</th>\n      <td>0.092712</td>\n      <td>0.265019</td>\n      <td>0.685468</td>\n      <td>0.470430</td>\n      <td>0.380366</td>\n      <td>0.652939</td>\n      <td>0.102877</td>\n      <td>0.002637</td>\n    </tr>\n    <tr>\n      <th>198</th>\n      <td>0.995217</td>\n      <td>0.270124</td>\n      <td>0.052280</td>\n      <td>0.055928</td>\n      <td>0.010894</td>\n      <td>0.090766</td>\n      <td>0.426235</td>\n      <td>0.155450</td>\n    </tr>\n    <tr>\n      <th>199</th>\n      <td>0.994373</td>\n      <td>0.527876</td>\n      <td>0.057790</td>\n      <td>0.016788</td>\n      <td>0.000000</td>\n      <td>0.000000</td>\n      <td>1.000000</td>\n      <td>1.000000</td>\n    </tr>\n    <tr>\n      <th>200</th>\n      <td>0.052476</td>\n      <td>0.485652</td>\n      <td>0.640038</td>\n      <td>0.351812</td>\n      <td>0.304181</td>\n      <td>0.585277</td>\n      <td>0.112483</td>\n      <td>0.003945</td>\n    </tr>\n    <tr>\n      <th>201</th>\n      <td>0.996905</td>\n      <td>0.407798</td>\n      <td>0.039320</td>\n      <td>0.028593</td>\n      <td>0.021776</td>\n      <td>0.175507</td>\n      <td>0.310415</td>\n      <td>0.068473</td>\n    </tr>\n  </tbody>\n</table>\n<p>202 rows × 8 columns</p>\n</div>"
     },
     "metadata": {},
     "execution_count": 52
    }
   ],
   "source": [
    "from sklearn import preprocessing\n",
    "data_stars = data.drop('TARGET', axis=1)\n",
    "data_stars['MIP'] = preprocessing.minmax_scale(data_stars['MIP'])\n",
    "data_stars['STDIP'] = preprocessing.minmax_scale(data_stars['STDIP'])\n",
    "data_stars['EKIP'] = preprocessing.minmax_scale(data_stars['EKIP'])\n",
    "data_stars['SIP'] = preprocessing.minmax_scale(data_stars['SIP'])\n",
    "data_stars['MC'] = preprocessing.minmax_scale(data_stars['MC'])\n",
    "data_stars['STDC'] = preprocessing.minmax_scale(data_stars['STDC'])\n",
    "data_stars['EKC'] = preprocessing.minmax_scale(data_stars['EKC'])\n",
    "data_stars['SC'] = preprocessing.minmax_scale(data_stars['SC'])\n",
    "data_stars"
   ]
  },
  {
   "cell_type": "markdown",
   "metadata": {},
   "source": [
    "Выборочное среднее для столбца MIP после нормировки"
   ]
  },
  {
   "cell_type": "code",
   "execution_count": 49,
   "metadata": {},
   "outputs": [
    {
     "output_type": "execute_result",
     "data": {
      "text/plain": "0.5206502783086413"
     },
     "metadata": {},
     "execution_count": 49
    }
   ],
   "source": [
    "data_stars['MIP'].mean()"
   ]
  },
  {
   "cell_type": "markdown",
   "metadata": {},
   "source": [
    "Обучите модель логистической регрессии, используя полученную после нормировки выборку в качестве тренировочного набора данных. Используйте следующие параметры:\n",
    "\n",
    "LogisticRegression(random_state=2019, solver='lbfgs')\n"
   ]
  },
  {
   "cell_type": "code",
   "execution_count": 53,
   "metadata": {},
   "outputs": [],
   "source": [
    "X = data_stars.copy()\n",
    "y = pd.DataFrame(data['TARGET']).values.ravel()\n",
    "from sklearn.linear_model import LogisticRegression\n",
    "reg = LogisticRegression(random_state=2019, solver='lbfgs').fit(X, y)"
   ]
  },
  {
   "cell_type": "markdown",
   "metadata": {},
   "source": [
    "Классификация новой звезды с параметрами\n",
    "\n",
    "[[0.539, 0.162, 0.188, 0.653, 0.796, 0.233, 0.397, 0.065]]"
   ]
  },
  {
   "cell_type": "code",
   "execution_count": 54,
   "metadata": {},
   "outputs": [
    {
     "output_type": "execute_result",
     "data": {
      "text/plain": "array([[0.4218309, 0.5781691]])"
     },
     "metadata": {},
     "execution_count": 54
    }
   ],
   "source": [
    "New_stars = [0.539, 0.162, 0.188, 0.653, 0.796, 0.233, 0.397, 0.065]\n",
    "reg.predict_proba([New_stars])"
   ]
  },
  {
   "cell_type": "markdown",
   "metadata": {},
   "source": [
    "Введите вероятность отнесения звезды к классу пульсар:"
   ]
  },
  {
   "cell_type": "code",
   "execution_count": null,
   "metadata": {},
   "outputs": [],
   "source": [
    "0.11814634"
   ]
  },
  {
   "cell_type": "markdown",
   "metadata": {},
   "source": [
    "Классификация новой звезды, с помощью метода k-ближайших соседей, используя нормализованные данные выборки"
   ]
  },
  {
   "cell_type": "code",
   "execution_count": 55,
   "metadata": {},
   "outputs": [
    {
     "output_type": "execute_result",
     "data": {
      "text/plain": "KNeighborsClassifier(algorithm='auto', leaf_size=30, metric='minkowski',\n                     metric_params=None, n_jobs=None, n_neighbors=5, p=2,\n                     weights='uniform')"
     },
     "metadata": {},
     "execution_count": 55
    }
   ],
   "source": [
    "from sklearn.neighbors import KNeighborsClassifier\n",
    "neigh = KNeighborsClassifier(n_neighbors=5, p=2)\n",
    "neigh.fit(X, y)"
   ]
  },
  {
   "cell_type": "markdown",
   "metadata": {},
   "source": [
    "Введите расстояние от новой звезды до ближайшего соседа, используя евклидову метрику"
   ]
  },
  {
   "cell_type": "code",
   "execution_count": 56,
   "metadata": {},
   "outputs": [
    {
     "output_type": "execute_result",
     "data": {
      "text/plain": "(array([[0.89395099, 0.91711915, 0.92737999, 0.94232422, 0.94812764]]),\n array([[37, 71, 68,  6, 93]], dtype=int32))"
     },
     "metadata": {},
     "execution_count": 56
    }
   ],
   "source": [
    "neigh.kneighbors([New_stars])"
   ]
  },
  {
   "cell_type": "markdown",
   "metadata": {},
   "source": [
    "Класс для новой звезды при k = 5 и евклидовой метрике"
   ]
  },
  {
   "cell_type": "code",
   "execution_count": 57,
   "metadata": {},
   "outputs": [
    {
     "output_type": "execute_result",
     "data": {
      "text/plain": "array([1], dtype=int64)"
     },
     "metadata": {},
     "execution_count": 57
    }
   ],
   "source": [
    "neigh.predict([New_stars])"
   ]
  },
  {
   "cell_type": "code",
   "execution_count": null,
   "metadata": {},
   "outputs": [],
   "source": []
  }
 ],
 "metadata": {
  "language_info": {
   "codemirror_mode": {
    "name": "ipython",
    "version": 3
   },
   "file_extension": ".py",
   "mimetype": "text/x-python",
   "name": "python",
   "nbconvert_exporter": "python",
   "pygments_lexer": "ipython3",
   "version": "3.7.4-final"
  },
  "orig_nbformat": 2,
  "kernelspec": {
   "name": "python37432bit071573435c334bbda4e7d57a8b43dfc8",
   "display_name": "Python 3.7.4 32-bit"
  }
 },
 "nbformat": 4,
 "nbformat_minor": 2
}