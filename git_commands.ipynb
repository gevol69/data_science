{
 "cells": [
  {
   "cell_type": "markdown",
   "metadata": {},
   "source": [
    "## Команды git"
   ]
  },
  {
   "cell_type": "markdown",
   "metadata": {},
   "source": [
    "### Клон репозитория \n",
    "git clone https://github.com/netology-code/ds3-spring-2018.git\n",
    "\n",
    "### Обновление репозитория\n",
    "git pull\n",
    "\n",
    "### Создание репозитория\n",
    "git init – создаем папку репозитория на диске  \n",
    "git add . – добавляем все файлы из папки  \n",
    "git commit –m “Test commit test version” – создаем коммит  \n",
    "git status – проверяем, что нужные файлы попали в коммит  \n",
    "\n",
    "git remote add origin https://github.com/kpimaker/test.git - указываем какой репозиторий хотим обновить  \n",
    "git push -u origin master - отправляем обновления в ветку master  \n",
    "\n",
    "### Переключаемся на другую ветку\n",
    "git pull – обновляем локальную копию репозитория  \n",
    "git checkout experiment – переключаемся на ветку experiment  \n",
    "git branch – проверяем, что сейчас мы в ветке experiment  \n",
    "git add –u – добавить в коммит все обновленные файлы  \n",
    "git commit -m 'Новый клевый алгоритм‘ – делаем коммит в ветку experiment  \n",
    "git push origin experiment – публикуем новый код\n",
    "\n",
    "### В случае:  ! [rejected]        master -> master (fetch first)\n",
    "git fetch origin master  \n",
    "git merge origin master\n",
    "\n",
    "### Запушить очередные изменения\n",
    "git add .  \n",
    "git commit -m \"commit\"  \n",
    "git push -u origin master  "
   ]
  }
 ],
 "metadata": {
  "language_info": {
   "name": "python",
   "codemirror_mode": {
    "name": "ipython",
    "version": 3
   },
   "version": "3.7.4-final"
  },
  "orig_nbformat": 2,
  "file_extension": ".py",
  "mimetype": "text/x-python",
  "name": "python",
  "npconvert_exporter": "python",
  "pygments_lexer": "ipython3",
  "version": 3,
  "kernelspec": {
   "name": "python37432bit071573435c334bbda4e7d57a8b43dfc8",
   "display_name": "Python 3.7.4 32-bit"
  }
 },
 "nbformat": 4,
 "nbformat_minor": 2
}